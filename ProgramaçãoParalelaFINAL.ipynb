{
  "nbformat": 4,
  "nbformat_minor": 0,
  "metadata": {
    "colab": {
      "provenance": []
    },
    "kernelspec": {
      "name": "python3",
      "display_name": "Python 3"
    },
    "language_info": {
      "name": "python"
    }
  },
  "cells": [
    {
      "cell_type": "markdown",
      "source": [
        "# UFSCAR - ACIEPE - Programação Paralela "
      ],
      "metadata": {
        "id": "zWbTyCLUwlbq"
      }
    },
    {
      "cell_type": "markdown",
      "source": [
        "## Identificação :\n",
        "### Aluno :Yago David Pimenta  RA:800273\n"
      ],
      "metadata": {
        "id": "MGlDuq7TwsOz"
      }
    },
    {
      "cell_type": "markdown",
      "source": [
        "## **Problema Abordado** : Ordenação\n",
        "#### Irei abordar alguns algoritmos de ordenação com grande volume de dados ,tal como : quicksort , mergesort , insertsort ...  porém vamos utilizar a biblioteca numba do python para ver se é possível melhorar o desempenho do algoritmo ."
      ],
      "metadata": {
        "id": "N2TV8zBAw0u3"
      }
    },
    {
      "cell_type": "markdown",
      "source": [
        " *Observação* : Como os códigos são simples , não foi necessário clonar o repositório de terceiros para  fazer essa adaptação , irei partir por conta própria ."
      ],
      "metadata": {
        "id": "7Mtcouyixb4O"
      }
    },
    {
      "cell_type": "markdown",
      "source": [
        "### Primeiro Passo : Abordar os problemas sequenciais e verificar o tempo gasto por cada um deles "
      ],
      "metadata": {
        "id": "YT-jWPh-xuOU"
      }
    },
    {
      "cell_type": "markdown",
      "source": [
        "( Input com 1 milhão de elementos)"
      ],
      "metadata": {
        "id": "EeaGv_NMz4zd"
      }
    },
    {
      "cell_type": "code",
      "source": [
        "import random\n",
        "import timeit\n",
        "arr = [random.randint(0, 1000000000) for i in range(1000000)]"
      ],
      "metadata": {
        "id": "i9M_uvnE0rh6"
      },
      "execution_count": 1,
      "outputs": []
    },
    {
      "cell_type": "markdown",
      "source": [
        "#### 1 - Selection Sort"
      ],
      "metadata": {
        "id": "5b4kQ46Cz1vm"
      }
    },
    {
      "cell_type": "code",
      "execution_count": null,
      "metadata": {
        "id": "c7FAOeg0wiux"
      },
      "outputs": [],
      "source": [
        "def selection_sort(arr):\n",
        "    n = len(arr)\n",
        "    \n",
        "    # Traverse through all array elements\n",
        "    for i in range(n):\n",
        "        \n",
        "        # Find the minimum element in remaining unsorted array\n",
        "        min_idx = i\n",
        "        for j in range(i+1, n):\n",
        "            if arr[j] < arr[min_idx]:\n",
        "                min_idx = j\n",
        "                \n",
        "        # Swap the found minimum element with the first element        \n",
        "        arr[i], arr[min_idx] = arr[min_idx], arr[i]\n",
        "    \n",
        "    return arr\n"
      ]
    },
    {
      "cell_type": "code",
      "source": [
        "start_time = timeit.default_timer()\n",
        "selection_sort(arr)\n",
        "print(\"O tempo gasto foi \",timeit.default_timer()-start_time)"
      ],
      "metadata": {
        "colab": {
          "base_uri": "https://localhost:8080/",
          "height": 321
        },
        "id": "D7HjtCdL1G5u",
        "outputId": "b03aef76-c349-468c-a07a-a9049ec3a91d"
      },
      "execution_count": null,
      "outputs": [
        {
          "output_type": "error",
          "ename": "KeyboardInterrupt",
          "evalue": "ignored",
          "traceback": [
            "\u001b[0;31m---------------------------------------------------------------------------\u001b[0m",
            "\u001b[0;31mKeyboardInterrupt\u001b[0m                         Traceback (most recent call last)",
            "\u001b[0;32m<ipython-input-5-bad1c225c372>\u001b[0m in \u001b[0;36m<cell line: 2>\u001b[0;34m()\u001b[0m\n\u001b[1;32m      1\u001b[0m \u001b[0mstart_time\u001b[0m \u001b[0;34m=\u001b[0m \u001b[0mtimeit\u001b[0m\u001b[0;34m.\u001b[0m\u001b[0mdefault_timer\u001b[0m\u001b[0;34m(\u001b[0m\u001b[0;34m)\u001b[0m\u001b[0;34m\u001b[0m\u001b[0;34m\u001b[0m\u001b[0m\n\u001b[0;32m----> 2\u001b[0;31m \u001b[0mselection_sort\u001b[0m\u001b[0;34m(\u001b[0m\u001b[0marr\u001b[0m\u001b[0;34m)\u001b[0m\u001b[0;34m\u001b[0m\u001b[0;34m\u001b[0m\u001b[0m\n\u001b[0m\u001b[1;32m      3\u001b[0m \u001b[0mprint\u001b[0m\u001b[0;34m(\u001b[0m\u001b[0;34m\"O tempo gasto foi \"\u001b[0m\u001b[0;34m,\u001b[0m\u001b[0mtimeit\u001b[0m\u001b[0;34m.\u001b[0m\u001b[0mdefault_timer\u001b[0m\u001b[0;34m(\u001b[0m\u001b[0;34m)\u001b[0m\u001b[0;34m-\u001b[0m\u001b[0mstart_time\u001b[0m\u001b[0;34m)\u001b[0m\u001b[0;34m\u001b[0m\u001b[0;34m\u001b[0m\u001b[0m\n",
            "\u001b[0;32m<ipython-input-4-329c4bd418a6>\u001b[0m in \u001b[0;36mselection_sort\u001b[0;34m(arr)\u001b[0m\n\u001b[1;32m      7\u001b[0m         \u001b[0;31m# Find the minimum element in remaining unsorted array\u001b[0m\u001b[0;34m\u001b[0m\u001b[0;34m\u001b[0m\u001b[0m\n\u001b[1;32m      8\u001b[0m         \u001b[0mmin_idx\u001b[0m \u001b[0;34m=\u001b[0m \u001b[0mi\u001b[0m\u001b[0;34m\u001b[0m\u001b[0;34m\u001b[0m\u001b[0m\n\u001b[0;32m----> 9\u001b[0;31m         \u001b[0;32mfor\u001b[0m \u001b[0mj\u001b[0m \u001b[0;32min\u001b[0m \u001b[0mrange\u001b[0m\u001b[0;34m(\u001b[0m\u001b[0mi\u001b[0m\u001b[0;34m+\u001b[0m\u001b[0;36m1\u001b[0m\u001b[0;34m,\u001b[0m \u001b[0mn\u001b[0m\u001b[0;34m)\u001b[0m\u001b[0;34m:\u001b[0m\u001b[0;34m\u001b[0m\u001b[0;34m\u001b[0m\u001b[0m\n\u001b[0m\u001b[1;32m     10\u001b[0m             \u001b[0;32mif\u001b[0m \u001b[0marr\u001b[0m\u001b[0;34m[\u001b[0m\u001b[0mj\u001b[0m\u001b[0;34m]\u001b[0m \u001b[0;34m<\u001b[0m \u001b[0marr\u001b[0m\u001b[0;34m[\u001b[0m\u001b[0mmin_idx\u001b[0m\u001b[0;34m]\u001b[0m\u001b[0;34m:\u001b[0m\u001b[0;34m\u001b[0m\u001b[0;34m\u001b[0m\u001b[0m\n\u001b[1;32m     11\u001b[0m                 \u001b[0mmin_idx\u001b[0m \u001b[0;34m=\u001b[0m \u001b[0mj\u001b[0m\u001b[0;34m\u001b[0m\u001b[0;34m\u001b[0m\u001b[0m\n",
            "\u001b[0;31mKeyboardInterrupt\u001b[0m: "
          ]
        }
      ]
    },
    {
      "cell_type": "markdown",
      "source": [
        "Não Rodou para 1 milhão de elementos , porém não vamos diminuir pois rodou para os outros casos ."
      ],
      "metadata": {
        "id": "t1ddzpWu9cdn"
      }
    },
    {
      "cell_type": "markdown",
      "source": [
        "#### 2 - MergeSort"
      ],
      "metadata": {
        "id": "DQunmLt03jSh"
      }
    },
    {
      "cell_type": "code",
      "source": [
        "def merge_sort(arr):\n",
        "    if len(arr) > 1:\n",
        "        # Divide the array into two halves\n",
        "        mid = len(arr) // 2\n",
        "        left_half = arr[:mid]\n",
        "        right_half = arr[mid:]\n",
        "        \n",
        "        # Recursively sort each half\n",
        "        merge_sort(left_half)\n",
        "        merge_sort(right_half)\n",
        "        \n",
        "        # Merge the sorted halves\n",
        "        i = j = k = 0\n",
        "        while i < len(left_half) and j < len(right_half):\n",
        "            if left_half[i] < right_half[j]:\n",
        "                arr[k] = left_half[i]\n",
        "                i += 1\n",
        "            else:\n",
        "                arr[k] = right_half[j]\n",
        "                j += 1\n",
        "            k += 1\n",
        "        \n",
        "        while i < len(left_half):\n",
        "            arr[k] = left_half[i]\n",
        "            i += 1\n",
        "            k += 1\n",
        "        \n",
        "        while j < len(right_half):\n",
        "            arr[k] = right_half[j]\n",
        "            j += 1\n",
        "            k += 1\n",
        "    \n",
        "    return arr"
      ],
      "metadata": {
        "id": "XmDbx5XU3jCZ"
      },
      "execution_count": null,
      "outputs": []
    },
    {
      "cell_type": "code",
      "source": [
        "start_time = timeit.default_timer()\n",
        "merge_sort(arr)\n",
        "print(\"O tempo gasto foi \",timeit.default_timer()-start_time)"
      ],
      "metadata": {
        "colab": {
          "base_uri": "https://localhost:8080/"
        },
        "id": "9xNf4bwq300G",
        "outputId": "b32b2507-65bc-47f7-9c96-998bf52fdf16"
      },
      "execution_count": null,
      "outputs": [
        {
          "output_type": "stream",
          "name": "stdout",
          "text": [
            "O tempo gasto foi  9.87420099800002\n"
          ]
        }
      ]
    },
    {
      "cell_type": "markdown",
      "source": [
        "#### 3 - QuickSort"
      ],
      "metadata": {
        "id": "82vxVBpx4bAI"
      }
    },
    {
      "cell_type": "code",
      "source": [
        "def quicksort(arr):\n",
        "    if len(arr) <= 1:\n",
        "        return arr\n",
        "    \n",
        "    # Choose pivot as median of first, middle, and last elements\n",
        "    mid = len(arr) // 2\n",
        "    first, last = arr[0], arr[-1]\n",
        "    if first <= arr[mid] <= last or last <= arr[mid] <= first:\n",
        "        pivot = arr[mid]\n",
        "    elif arr[mid] <= first <= last or last <= first <= arr[mid]:\n",
        "        pivot = first\n",
        "    else:\n",
        "        pivot = last\n",
        "    \n",
        "    # Partition the array around the pivot\n",
        "    left = [x for x in arr if x < pivot]\n",
        "    equal = [x for x in arr if x == pivot]\n",
        "    right = [x for x in arr if x > pivot]\n",
        "    \n",
        "    # Recursively sort the left and right partitions\n",
        "    left_sorted = quicksort(left)\n",
        "    right_sorted = quicksort(right)\n",
        "    \n",
        "    # Concatenate the sorted partitions with the pivot\n",
        "    return left_sorted + equal + right_sorted"
      ],
      "metadata": {
        "id": "aaX7QEkG3-CD"
      },
      "execution_count": null,
      "outputs": []
    },
    {
      "cell_type": "code",
      "source": [
        "start_time = timeit.default_timer()\n",
        "quicksort(arr)\n",
        "print(\"O tempo gasto foi \",timeit.default_timer()-start_time)"
      ],
      "metadata": {
        "colab": {
          "base_uri": "https://localhost:8080/"
        },
        "id": "yiiyIdeK4eW7",
        "outputId": "8f5ea607-363f-409c-c6ed-0849cc665b5e"
      },
      "execution_count": null,
      "outputs": [
        {
          "output_type": "stream",
          "name": "stdout",
          "text": [
            "O tempo gasto foi  8.776174018000006\n"
          ]
        }
      ]
    },
    {
      "cell_type": "markdown",
      "source": [
        "#### 4 - RadixSort (ordenação digital)"
      ],
      "metadata": {
        "id": "qDjBNDys4_Hq"
      }
    },
    {
      "cell_type": "code",
      "source": [
        "def radix_sort(arr):\n",
        "    # Get the maximum number of digits in the array\n",
        "    max_digit = len(str(max(arr)))\n",
        "    \n",
        "    # Perform counting sort on each digit, starting from least significant to most significant\n",
        "    for i in range(max_digit):\n",
        "        buckets = [[] for _ in range(10)]\n",
        "        for num in arr:\n",
        "            digit = (num // 10**i) % 10\n",
        "            buckets[digit].append(num)\n",
        "        arr = [num for bucket in buckets for num in bucket]\n",
        "    \n",
        "    return arr"
      ],
      "metadata": {
        "id": "tkgewSQo5Cs_"
      },
      "execution_count": null,
      "outputs": []
    },
    {
      "cell_type": "code",
      "source": [
        "start_time = timeit.default_timer()\n",
        "radix_sort(arr)\n",
        "print(\"O tempo gasto foi \",timeit.default_timer()-start_time)"
      ],
      "metadata": {
        "colab": {
          "base_uri": "https://localhost:8080/"
        },
        "id": "plwD75Ze5NH2",
        "outputId": "221887f8-0df9-467c-ea91-cc10b3532419"
      },
      "execution_count": null,
      "outputs": [
        {
          "output_type": "stream",
          "name": "stdout",
          "text": [
            "O tempo gasto foi  8.084604654000032\n"
          ]
        }
      ]
    },
    {
      "cell_type": "markdown",
      "source": [
        "### Vamos começar a paralelizar"
      ],
      "metadata": {
        "id": "91KQhcgz5UCN"
      }
    },
    {
      "cell_type": "code",
      "source": [
        "import numba as nb"
      ],
      "metadata": {
        "id": "ghIQ0kI19NVr"
      },
      "execution_count": 3,
      "outputs": []
    },
    {
      "cell_type": "markdown",
      "source": [
        "1 - Selection Sort"
      ],
      "metadata": {
        "id": "XvkUjkwj9RhZ"
      }
    },
    {
      "cell_type": "code",
      "source": [
        "@nb.jit(nopython=True)\n",
        "def selection_sort(arr):\n",
        "\n",
        "\n",
        "    n = len(arr)\n",
        "    \n",
        "    # Traverse through all array elements\n",
        "    for i in range(n):\n",
        "        \n",
        "        # Find the minimum element in remaining unsorted array\n",
        "        min_idx = i\n",
        "        for j in range(i+1, n):\n",
        "            if arr[j] < arr[min_idx]:\n",
        "                min_idx = j\n",
        "                \n",
        "        # Swap the found minimum element with the first element        \n",
        "        arr[i], arr[min_idx] = arr[min_idx], arr[i]\n",
        "    \n",
        "    return arr\n"
      ],
      "metadata": {
        "id": "zofuFAiXxGrl"
      },
      "execution_count": 15,
      "outputs": []
    },
    {
      "cell_type": "code",
      "source": [
        "start_time = timeit.default_timer()\n",
        "selection_sort(arr)\n",
        "print(\"O tempo gasto foi \",timeit.default_timer()-start_time)"
      ],
      "metadata": {
        "colab": {
          "base_uri": "https://localhost:8080/"
        },
        "id": "dlW4D1CEz3sW",
        "outputId": "80092c9e-74d5-46af-cd0d-b9f13d9c4116"
      },
      "execution_count": null,
      "outputs": [
        {
          "output_type": "stream",
          "name": "stderr",
          "text": [
            "/usr/local/lib/python3.9/dist-packages/numba/core/ir_utils.py:2147: NumbaPendingDeprecationWarning: \n",
            "Encountered the use of a type that is scheduled for deprecation: type 'reflected list' found for argument 'arr' of function 'selection_sort'.\n",
            "\n",
            "For more information visit https://numba.readthedocs.io/en/stable/reference/deprecation.html#deprecation-of-reflection-for-list-and-set-types\n",
            "\n",
            "File \"<ipython-input-15-dd8b6cd62036>\", line 2:\n",
            "@nb.jit(nopython=True)\n",
            "def selection_sort(arr):\n",
            "^\n",
            "\n",
            "  warnings.warn(NumbaPendingDeprecationWarning(msg, loc=loc))\n"
          ]
        }
      ]
    },
    {
      "cell_type": "markdown",
      "source": [
        "2 - Merge Sort"
      ],
      "metadata": {
        "id": "xn6Hw87k9TZl"
      }
    },
    {
      "cell_type": "code",
      "source": [
        "@nb.jit(nopython=True)\n",
        "def merge_sort(arr):\n",
        "    if len(arr) > 1:\n",
        "        # Divide the array into two halves\n",
        "        mid = len(arr) // 2\n",
        "        left_half = arr[:mid]\n",
        "        right_half = arr[mid:]\n",
        "        \n",
        "        # Recursively sort each half\n",
        "        merge_sort(left_half)\n",
        "        merge_sort(right_half)\n",
        "        \n",
        "        # Merge the sorted halves\n",
        "        i = j = k = 0\n",
        "        while i < len(left_half) and j < len(right_half):\n",
        "            if left_half[i] < right_half[j]:\n",
        "                arr[k] = left_half[i]\n",
        "                i += 1\n",
        "            else:\n",
        "                arr[k] = right_half[j]\n",
        "                j += 1\n",
        "            k += 1\n",
        "        \n",
        "        while i < len(left_half):\n",
        "            arr[k] = left_half[i]\n",
        "            i += 1\n",
        "            k += 1\n",
        "        \n",
        "        while j < len(right_half):\n",
        "            arr[k] = right_half[j]\n",
        "            j += 1\n",
        "            k += 1\n",
        "    \n",
        "    return arr"
      ],
      "metadata": {
        "id": "QlXbfSwM8Wd3"
      },
      "execution_count": 6,
      "outputs": []
    },
    {
      "cell_type": "code",
      "source": [
        "start_time = timeit.default_timer()\n",
        "merge_sort(arr)\n",
        "print(\"O tempo gasto foi \",timeit.default_timer()-start_time)"
      ],
      "metadata": {
        "colab": {
          "base_uri": "https://localhost:8080/"
        },
        "id": "AL5ozYml8b-x",
        "outputId": "bd5e7892-109f-4ef2-ff0a-5c80f1a9c001"
      },
      "execution_count": 7,
      "outputs": [
        {
          "output_type": "stream",
          "name": "stderr",
          "text": [
            "/usr/local/lib/python3.9/dist-packages/numba/core/ir_utils.py:2147: NumbaPendingDeprecationWarning: \n",
            "Encountered the use of a type that is scheduled for deprecation: type 'reflected list' found for argument 'arr' of function 'merge_sort'.\n",
            "\n",
            "For more information visit https://numba.readthedocs.io/en/stable/reference/deprecation.html#deprecation-of-reflection-for-list-and-set-types\n",
            "\n",
            "File \"<ipython-input-6-37b352ec6c5b>\", line 2:\n",
            "@nb.jit(nopython=True)\n",
            "def merge_sort(arr):\n",
            "^\n",
            "\n",
            "  warnings.warn(NumbaPendingDeprecationWarning(msg, loc=loc))\n"
          ]
        },
        {
          "output_type": "stream",
          "name": "stdout",
          "text": [
            "O tempo gasto foi  3.586439050000081\n"
          ]
        }
      ]
    },
    {
      "cell_type": "markdown",
      "source": [
        "3 - QuickSort"
      ],
      "metadata": {
        "id": "I6bFIxqA9WIZ"
      }
    },
    {
      "cell_type": "code",
      "source": [
        "@nb.jit(nopython=True)\n",
        "def quicksort(arr):\n",
        "    if len(arr) <= 1:\n",
        "        return arr\n",
        "    \n",
        "    # Choose pivot as median of first, middle, and last elements\n",
        "    mid = len(arr) // 2\n",
        "    first, last = arr[0], arr[-1]\n",
        "    if first <= arr[mid] <= last or last <= arr[mid] <= first:\n",
        "        pivot = arr[mid]\n",
        "    elif arr[mid] <= first <= last or last <= first <= arr[mid]:\n",
        "        pivot = first\n",
        "    else:\n",
        "        pivot = last\n",
        "    \n",
        "    # Partition the array around the pivot\n",
        "    left = [x for x in arr if x < pivot]\n",
        "    equal = [x for x in arr if x == pivot]\n",
        "    right = [x for x in arr if x > pivot]\n",
        "    \n",
        "    # Recursively sort the left and right partitions\n",
        "    left_sorted = quicksort(left)\n",
        "    right_sorted = quicksort(right)\n",
        "    \n",
        "    # Concatenate the sorted partitions with the pivot\n",
        "    return left_sorted + equal + right_sorted"
      ],
      "metadata": {
        "id": "VpXVoIgB7nRx"
      },
      "execution_count": 4,
      "outputs": []
    },
    {
      "cell_type": "code",
      "source": [
        "start_time = timeit.default_timer()\n",
        "quicksort(arr)\n",
        "print(\"O tempo gasto foi \",timeit.default_timer()-start_time)"
      ],
      "metadata": {
        "colab": {
          "base_uri": "https://localhost:8080/"
        },
        "id": "mtjhdp3n7zwt",
        "outputId": "225fa7b5-4ac9-4cf7-bf80-45aec879e389"
      },
      "execution_count": 5,
      "outputs": [
        {
          "output_type": "stream",
          "name": "stderr",
          "text": [
            "/usr/local/lib/python3.9/dist-packages/numba/core/ir_utils.py:2147: NumbaPendingDeprecationWarning: \n",
            "Encountered the use of a type that is scheduled for deprecation: type 'reflected list' found for argument 'arr' of function 'quicksort'.\n",
            "\n",
            "For more information visit https://numba.readthedocs.io/en/stable/reference/deprecation.html#deprecation-of-reflection-for-list-and-set-types\n",
            "\n",
            "File \"<ipython-input-4-9da5109e6afd>\", line 2:\n",
            "@nb.jit(nopython=True)\n",
            "def quicksort(arr):\n",
            "^\n",
            "\n",
            "  warnings.warn(NumbaPendingDeprecationWarning(msg, loc=loc))\n"
          ]
        },
        {
          "output_type": "stream",
          "name": "stdout",
          "text": [
            "O tempo gasto foi  5.362131482999757\n"
          ]
        }
      ]
    },
    {
      "cell_type": "markdown",
      "source": [
        "4 - Radix Sort"
      ],
      "metadata": {
        "id": "J1wPLhw69YH7"
      }
    },
    {
      "cell_type": "code",
      "source": [
        "@nb.jit()\n",
        "def radix_sort(arr):\n",
        "    # Get the maximum number of digits in the array\n",
        "    max_digit = len(str(max(arr)))\n",
        "    \n",
        "    # Perform counting sort on each digit, starting from least significant to most significant\n",
        "    for i in range(max_digit):\n",
        "        buckets = [[] for _ in range(10)]\n",
        "        for num in arr:\n",
        "            digit = (num // 10**i) % 10\n",
        "            buckets[digit].append(num)\n",
        "        arr = [num for bucket in buckets for num in bucket]\n",
        "    \n",
        "    return arr"
      ],
      "metadata": {
        "id": "i_UgQBHG8jz1"
      },
      "execution_count": 11,
      "outputs": []
    },
    {
      "cell_type": "code",
      "source": [
        "start_time = timeit.default_timer()\n",
        "radix_sort(arr)\n",
        "print(\"O tempo gasto foi \",timeit.default_timer()-start_time)"
      ],
      "metadata": {
        "colab": {
          "base_uri": "https://localhost:8080/"
        },
        "id": "LF1FdqGv8oq0",
        "outputId": "c65b8d64-3a73-4113-a420-3aa619f27c23"
      },
      "execution_count": 12,
      "outputs": [
        {
          "output_type": "stream",
          "name": "stderr",
          "text": [
            "<ipython-input-11-eae39df6bc48>:1: NumbaWarning: \n",
            "Compilation is falling back to object mode WITH looplifting enabled because Function \"radix_sort\" failed type inference due to: Undecided type $78load_method.13 := <undecided>\n",
            "During: resolving caller type: $78load_method.13\n",
            "During: typing of call at <ipython-input-11-eae39df6bc48> (11)\n",
            "\n",
            "\n",
            "File \"<ipython-input-11-eae39df6bc48>\", line 11:\n",
            "def radix_sort(arr):\n",
            "    <source elided>\n",
            "            digit = (num // 10**i) % 10\n",
            "            buckets[digit].append(num)\n",
            "            ^\n",
            "\n",
            "  @nb.jit()\n",
            "<ipython-input-11-eae39df6bc48>:1: NumbaWarning: \n",
            "Compilation is falling back to object mode WITHOUT looplifting enabled because Function \"radix_sort\" failed type inference due to: Cannot determine Numba type of <class 'numba.core.dispatcher.LiftedLoop'>\n",
            "\n",
            "File \"<ipython-input-11-eae39df6bc48>\", line 7:\n",
            "def radix_sort(arr):\n",
            "    <source elided>\n",
            "    # Perform counting sort on each digit, starting from least significant to most significant\n",
            "    for i in range(max_digit):\n",
            "    ^\n",
            "\n",
            "  @nb.jit()\n",
            "/usr/local/lib/python3.9/dist-packages/numba/core/object_mode_passes.py:151: NumbaWarning: Function \"radix_sort\" was compiled in object mode without forceobj=True, but has lifted loops.\n",
            "\n",
            "File \"<ipython-input-11-eae39df6bc48>\", line 4:\n",
            "def radix_sort(arr):\n",
            "    <source elided>\n",
            "    # Get the maximum number of digits in the array\n",
            "    max_digit = len(str(max(arr)))\n",
            "    ^\n",
            "\n",
            "  warnings.warn(errors.NumbaWarning(warn_msg,\n",
            "/usr/local/lib/python3.9/dist-packages/numba/core/object_mode_passes.py:161: NumbaDeprecationWarning: \n",
            "Fall-back from the nopython compilation path to the object mode compilation path has been detected, this is deprecated behaviour.\n",
            "\n",
            "For more information visit https://numba.readthedocs.io/en/stable/reference/deprecation.html#deprecation-of-object-mode-fall-back-behaviour-when-using-jit\n",
            "\n",
            "File \"<ipython-input-11-eae39df6bc48>\", line 4:\n",
            "def radix_sort(arr):\n",
            "    <source elided>\n",
            "    # Get the maximum number of digits in the array\n",
            "    max_digit = len(str(max(arr)))\n",
            "    ^\n",
            "\n",
            "  warnings.warn(errors.NumbaDeprecationWarning(msg,\n",
            "<ipython-input-11-eae39df6bc48>:1: NumbaWarning: \n",
            "Compilation is falling back to object mode WITHOUT looplifting enabled because Function \"radix_sort\" failed type inference due to: Undecided type $78load_method.13 := <undecided>\n",
            "During: resolving caller type: $78load_method.13\n",
            "During: typing of call at <ipython-input-11-eae39df6bc48> (11)\n",
            "\n",
            "\n",
            "File \"<ipython-input-11-eae39df6bc48>\", line 11:\n",
            "def radix_sort(arr):\n",
            "    <source elided>\n",
            "            digit = (num // 10**i) % 10\n",
            "            buckets[digit].append(num)\n",
            "            ^\n",
            "\n",
            "  @nb.jit()\n",
            "/usr/local/lib/python3.9/dist-packages/numba/core/object_mode_passes.py:151: NumbaWarning: Function \"radix_sort\" was compiled in object mode without forceobj=True.\n",
            "\n",
            "File \"<ipython-input-11-eae39df6bc48>\", line 7:\n",
            "def radix_sort(arr):\n",
            "    <source elided>\n",
            "    # Perform counting sort on each digit, starting from least significant to most significant\n",
            "    for i in range(max_digit):\n",
            "    ^\n",
            "\n",
            "  warnings.warn(errors.NumbaWarning(warn_msg,\n",
            "/usr/local/lib/python3.9/dist-packages/numba/core/object_mode_passes.py:161: NumbaDeprecationWarning: \n",
            "Fall-back from the nopython compilation path to the object mode compilation path has been detected, this is deprecated behaviour.\n",
            "\n",
            "For more information visit https://numba.readthedocs.io/en/stable/reference/deprecation.html#deprecation-of-object-mode-fall-back-behaviour-when-using-jit\n",
            "\n",
            "File \"<ipython-input-11-eae39df6bc48>\", line 7:\n",
            "def radix_sort(arr):\n",
            "    <source elided>\n",
            "    # Perform counting sort on each digit, starting from least significant to most significant\n",
            "    for i in range(max_digit):\n",
            "    ^\n",
            "\n",
            "  warnings.warn(errors.NumbaDeprecationWarning(msg,\n"
          ]
        },
        {
          "output_type": "stream",
          "name": "stdout",
          "text": [
            "O tempo gasto foi  8.57374408800024\n"
          ]
        }
      ]
    },
    {
      "cell_type": "markdown",
      "source": [
        "#### Vamos plotar os gráficos"
      ],
      "metadata": {
        "id": "4tJpA9gy9ajw"
      }
    },
    {
      "cell_type": "code",
      "source": [
        "import matplotlib.pyplot as plt"
      ],
      "metadata": {
        "id": "lQTk_s_J9dpd"
      },
      "execution_count": 13,
      "outputs": []
    },
    {
      "cell_type": "markdown",
      "source": [
        "Primeira observação : O algortimo do InsertionSort , mesmo paralelizando , não rodou , portanto não terá gráfico ."
      ],
      "metadata": {
        "id": "TClF8fhf91nL"
      }
    },
    {
      "cell_type": "code",
      "source": [
        "\n",
        "\n",
        "data = {'Merge':9.87420099800002, 'MergeNUMBA':3.586439050000081, 'QuickSort':8.776174018000006,\n",
        "        'QuickNUMBA':5.362131482999757,'Radix':8.084604654000032,'RadixNUMBA':8.57374408800024}\n",
        "x = list(data.keys())\n",
        "y = list(data.values())\n",
        "  \n",
        "fig = plt.figure(figsize = (10, 5))\n",
        " \n",
        "# creating the bar plot\n",
        "plt.bar(x, y, color ='maroon',\n",
        "        width = 0.4)\n",
        " \n",
        "plt.xlabel(\"Soluções\")\n",
        "plt.ylabel(\"Tempo em segundos\")\n",
        "plt.title(\"Comparando soluções paralelizadas\")\n",
        "plt.show()"
      ],
      "metadata": {
        "colab": {
          "base_uri": "https://localhost:8080/",
          "height": 487
        },
        "id": "8YwKP0429uc9",
        "outputId": "090eb773-0534-41a0-a2b5-05784a9dd4af"
      },
      "execution_count": 18,
      "outputs": [
        {
          "output_type": "display_data",
          "data": {
            "text/plain": [
              "<Figure size 1000x500 with 1 Axes>"
            ],
            "image/png": "[encoded data removed]"
          },
          "metadata": {}
        }
      ]
    },
    {
      "cell_type": "markdown",
      "source": [
        "### Conclusão :\n",
        "O melhor resultado foi para o merge sort que ficou muito melhor utilizando mecanismos de ordenação para um array de 1 milhão de elementos . Já o radix não demonstrou melhora , pois basicamente ele não utiliza mecanismos do nopython ."
      ],
      "metadata": {
        "id": "AI3-15Bz_V1E"
      }
    }
  ]
}